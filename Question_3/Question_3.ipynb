{
 "cells": [
  {
   "cell_type": "code",
   "execution_count": null,
   "id": "2d9faf82-03a1-4635-b253-2af266948115",
   "metadata": {},
   "outputs": [],
   "source": [
    "### permitted modules ###\n",
    "import numpy as np\n",
    "import datetime\n",
    "import hashlib\n",
    "#########################\n",
    "\n",
    "### comments about code and algorithms used (optional) ###\n",
    "\n",
    "##########################################################"
   ]
  },
  {
   "cell_type": "code",
   "execution_count": null,
   "id": "99debb95-c88e-4448-94bb-4d8af3d970d4",
   "metadata": {},
   "outputs": [],
   "source": [
    "###  utility constants, functions and lookups can be instantiated/built here ###\n",
    "\n",
    "\n",
    "################################################################################"
   ]
  },
  {
   "cell_type": "code",
   "execution_count": null,
   "id": "9bb48930-9013-49a5-9014-5392ac98c617",
   "metadata": {},
   "outputs": [],
   "source": [
    "### compressing algorithm ###\n",
    "def compress(raw):\n",
    "    ### add logic here\n",
    "    compressed = raw\n",
    "    ###\n",
    "    return compressed\n",
    "#############################"
   ]
  },
  {
   "cell_type": "code",
   "execution_count": null,
   "id": "89ee763e-2fe2-452f-a21b-3dfb403c276b",
   "metadata": {},
   "outputs": [],
   "source": [
    "### decompressing algorithm ###\n",
    "def decompress(compressed):\n",
    "    ### add logic here\n",
    "    decompressed = compressed\n",
    "    ###\n",
    "    return decompressed\n",
    "###############################"
   ]
  },
  {
   "cell_type": "code",
   "execution_count": null,
   "id": "40cf12df",
   "metadata": {},
   "outputs": [],
   "source": [
    "####### !!! DO NOT MODIFY !!! #######\n",
    "def read_file_content(filename):\n",
    "    f = open(filename, 'r', encoding = 'UTF-8')\n",
    "    content = f.read()\n",
    "    f.close()\n",
    "    return content\n",
    "\n",
    "def write_file_content(filename, content):\n",
    "    f = open(filename, 'w', encoding = 'UTF-8')\n",
    "    f.write(content)\n",
    "    f.close()\n",
    "    return None\n",
    "\n",
    "def do_compression(content_raw, write_file_name):\n",
    "    content_compressed = compress(content_raw)\n",
    "    write_file_content(write_file_name, content_compressed)\n",
    "    return content_compressed\n",
    "\n",
    "def do_decompression(content_compressed, write_file_name):\n",
    "    content_decompressed = decompress(content_compressed)\n",
    "    write_file_content(write_file_name, content_decompressed)\n",
    "    return content_decompressed\n",
    "\n",
    "def compression_decompression(file_number = '0001'):\n",
    "    base_filepath = '_data/data_'\n",
    "    \n",
    "    ### read file raw content from file with specified name\n",
    "    content_raw = read_file_content('raw' + base_filepath + 'raw_'  + file_number + '.txt')\n",
    "    \n",
    "    ### compress raw data and then decompress compressed data content. Save results in txt files.\n",
    "    content_compressed = do_compression(content_raw, 'compressed' + base_filepath + 'compressed_' + file_number + '.txt')\n",
    "    content_decompressed = do_decompression(content_compressed, 'decompressed' + base_filepath + 'decompressed_' + file_number + '.txt')\n",
    "    \n",
    "    ### encode content to UTF-8 from string type to remove native string class overhead\n",
    "    content_raw_encoded = content_raw.encode() ### UTF-8\n",
    "    content_compressed_encoded = content_compressed.encode() ### UTF-8\n",
    "    content_decompressed_encoded = content_decompressed.encode() ### UTF-8\n",
    "    \n",
    "    return content_raw, content_compressed, content_decompressed, content_raw_encoded, content_compressed_encoded, content_decompressed_encoded\n",
    "\n",
    "def evaluate_performance(file_number = '0001'):\n",
    "    raw, compressed, decompressed, raw_encoded, compressed_encoded, decompressed_encoded = compression_decompression(file_number)\n",
    "    \n",
    "    ### evaluate size - each character in a UTF-8 encoded string represents 1 byte\n",
    "    raw_size = len(raw_encoded) # bytes\n",
    "    compressed_size = len(compressed_encoded) # bytes\n",
    "    decompressed_size = len(decompressed_encoded) # bytes\n",
    "    \n",
    "    # ### print size and type\n",
    "    # print(raw_size, type(raw_encoded))\n",
    "    # print(compressed_size, type(compressed_encoded))\n",
    "    # print(decompressed_size, type(decompressed_encoded))\n",
    "    \n",
    "    ### calculate metrics, and check that output matches input perfectly\n",
    "    compression_ratio = raw_size/compressed_size\n",
    "    \n",
    "    decompressed_hash = hashlib.md5(decompressed_encoded).hexdigest()\n",
    "    raw_hash = hashlib.md5(raw_encoded).hexdigest()\n",
    "    \n",
    "    lossless = decompressed_hash == raw_hash ## md5 checksum\n",
    "    \n",
    "    return compression_ratio, lossless\n",
    "####### !!! DO NOT MODIFY !!! #######"
   ]
  },
  {
   "cell_type": "markdown",
   "id": "09243248",
   "metadata": {},
   "source": [
    "### PERFORMANCE\n",
    "REQUIREMENT: Generated output file should be identical to the raw file. (i.e. should be lossless)\n",
    "\n",
    "OBJECTIVE: Maximise compresssion ratio."
   ]
  },
  {
   "cell_type": "code",
   "execution_count": null,
   "id": "3c8a300b",
   "metadata": {},
   "outputs": [],
   "source": [
    "### replace file_number with the number of the txt file you want to test on\n",
    "file_number = '0001'\n",
    "\n",
    "### run cell to evaluate compression performance\n",
    "compression_ratio, lossless = evaluate_performance(file_number)\n",
    "\n",
    "performance = 'Compression Ratio: ' + str(compression_ratio) + '\\nLossless: ' + str(lossless)\n",
    "print(performance) "
   ]
  }
 ],
 "metadata": {
  "kernelspec": {
   "display_name": "Python 3 (ipykernel)",
   "language": "python",
   "name": "python3"
  },
  "language_info": {
   "codemirror_mode": {
    "name": "ipython",
    "version": 3
   },
   "file_extension": ".py",
   "mimetype": "text/x-python",
   "name": "python",
   "nbconvert_exporter": "python",
   "pygments_lexer": "ipython3",
   "version": "3.10.9"
  }
 },
 "nbformat": 4,
 "nbformat_minor": 5
}
