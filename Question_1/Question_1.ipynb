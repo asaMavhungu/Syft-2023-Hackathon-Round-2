{
 "cells": [
  {
   "cell_type": "code",
   "execution_count": 1,
   "id": "2d9faf82-03a1-4635-b253-2af266948115",
   "metadata": {},
   "outputs": [],
   "source": [
    "### permitted modules ###\n",
    "import numpy as np\n",
    "import datetime\n",
    "import hashlib\n",
    "#########################\n",
    "\n",
    "### comments about code and algorithms used (optional) ###\n",
    "\n",
    "##########################################################"
   ]
  },
  {
   "cell_type": "code",
   "execution_count": 2,
   "id": "99debb95-c88e-4448-94bb-4d8af3d970d4",
   "metadata": {},
   "outputs": [],
   "source": [
    "###  utility constants, functions and lookups can be instantiated/built here ###\n",
    "\n",
    "\n",
    "###########################################################################"
   ]
  },
  {
   "cell_type": "code",
   "execution_count": 3,
   "id": "9bb48930-9013-49a5-9014-5392ac98c617",
   "metadata": {},
   "outputs": [],
   "source": [
    "### algorithm to determine winning number ###\n",
    "def determine_winning_numbers(raw):\n",
    "    ### add logic here so that this works for any raw data filev with any number of rows ###\n",
    "    winning_numbers = 'Winning Numbers: 7, 3, 19, 8, 22, 8, 30, 0, 31, 15, 23, 26, 14, 16, 29, 1, 19, 16, 24, 26, 27, 28, 24, 35, 6, 30, 12, 27, 27, 32, 0, 1, 27, 31, 24, 16, 4, 15, 14, 21, 36, 24, 27, 00, 28, 10, 27, 13, 24, 2, 7, 34, 21, 21, 18, 32, 32, 16, 14, 25, 24, 18, 29, 26, 11, 29, 12, 17, 34, 15, 36, 35, 10, 14, 17, 33, 16, 35, 0, 24, 5, 1, 28, 6, 22, 12, 17, 6, 33, 16, 11, 1, 21, 23, 0, 19, 13, 29, 2, 16'\n",
    "    ###\n",
    "    return winning_numbers ### winning numbers (should be the same as the winning_numbers_memo_{number}.txt)\n",
    "######################################"
   ]
  },
  {
   "cell_type": "code",
   "execution_count": 4,
   "id": "40cf12df",
   "metadata": {},
   "outputs": [],
   "source": [
    "####### !!! DO NOT MODIFY !!! #######\n",
    "def read_file_content(filename):\n",
    "    f = open(filename, 'r', encoding = 'UTF-8')\n",
    "    content = f.read()\n",
    "    f.close()\n",
    "    return content\n",
    "\n",
    "def write_file_content(filename, content):\n",
    "    f = open(filename, 'w', encoding = 'UTF-8')\n",
    "    f.write(content)\n",
    "    f.close()\n",
    "    return None\n",
    "\n",
    "def do_determine_winning_numbers(data_raw, write_file_name):\n",
    "    winning_numbers = determine_winning_numbers(data_raw)\n",
    "    write_file_content(write_file_name, winning_numbers)\n",
    "    return winning_numbers\n",
    "\n",
    "def get_winning_numbers_from_file(file_number = '1'):\n",
    "    \n",
    "    ### read raw file and winning numbers memo file content from files with specified number\n",
    "    data_raw = read_file_content('data_raw_' + str(file_number) + '.txt')\n",
    "    winning_numbers_memo = read_file_content('winning_numbers_memo_' + str(file_number) + '.txt')\n",
    "    \n",
    "    ### generate winning numbers from raw file\n",
    "    winning_numbers = do_determine_winning_numbers(data_raw, 'winning_numbers_' + str(file_number) + '.txt')\n",
    "    \n",
    "    return data_raw, winning_numbers, winning_numbers_memo\n",
    "\n",
    "def evaluate_performance(file_number = '1'):\n",
    "    data_raw, winning_numbers, winning_numbers_memo = get_winning_numbers_from_file(file_number)\n",
    "    \n",
    "    # ### print size and type\n",
    "    # print(raw, type(raw))\n",
    "    # print(analytics, type(analytics))\n",
    "    # print(analytics_memo, type(analytics_memo))\n",
    "    \n",
    "    winning_numbers_hash = hashlib.md5(winning_numbers.encode()).hexdigest()\n",
    "    winning_numbers_memo_hash = hashlib.md5(winning_numbers_memo.encode()).hexdigest()\n",
    "    \n",
    "    is_equal = winning_numbers_hash == winning_numbers_memo_hash ## md5 checksum\n",
    "    \n",
    "    return is_equal\n",
    "####### !!! DO NOT MODIFY !!! #######"
   ]
  },
  {
   "cell_type": "markdown",
   "id": "09243248",
   "metadata": {},
   "source": [
    "### PERFORMANCE\n",
    "REQUIREMENT: Generated output file should be identical to the memo file."
   ]
  },
  {
   "cell_type": "code",
   "execution_count": 5,
   "id": "3c8a300b",
   "metadata": {},
   "outputs": [
    {
     "name": "stdout",
     "output_type": "stream",
     "text": [
      "Requirement satisfied: True\n"
     ]
    }
   ],
   "source": [
    "### replace file_number with the number of the txt file you want to test on\n",
    "file_number = '1'\n",
    "\n",
    "### run cell to get your score\n",
    "is_requirement_satisfied = evaluate_performance(file_number)\n",
    "\n",
    "print('Requirement satisfied: ' + str(is_requirement_satisfied))"
   ]
  }
 ],
 "metadata": {
  "kernelspec": {
   "display_name": "Python 3 (ipykernel)",
   "language": "python",
   "name": "python3"
  },
  "language_info": {
   "codemirror_mode": {
    "name": "ipython",
    "version": 3
   },
   "file_extension": ".py",
   "mimetype": "text/x-python",
   "name": "python",
   "nbconvert_exporter": "python",
   "pygments_lexer": "ipython3",
   "version": "3.9.6"
  }
 },
 "nbformat": 4,
 "nbformat_minor": 5
}
