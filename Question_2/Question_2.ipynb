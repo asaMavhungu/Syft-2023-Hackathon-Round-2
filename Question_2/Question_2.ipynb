{
 "cells": [
  {
   "cell_type": "code",
   "execution_count": null,
   "id": "2d9faf82-03a1-4635-b253-2af266948115",
   "metadata": {},
   "outputs": [],
   "source": [
    "### permitted modules ###\n",
    "import numpy as np\n",
    "import datetime\n",
    "import hashlib\n",
    "#########################\n",
    "\n",
    "### comments about code and algorithms used (optional) ###\n",
    "\n",
    "##########################################################"
   ]
  },
  {
   "cell_type": "code",
   "execution_count": null,
   "id": "99debb95-c88e-4448-94bb-4d8af3d970d4",
   "metadata": {},
   "outputs": [],
   "source": [
    "###  utility constants, functions and lookups can be instantiated/built here ###\n",
    "\n",
    "\n",
    "################################################################################"
   ]
  },
  {
   "cell_type": "code",
   "execution_count": null,
   "id": "9bb48930-9013-49a5-9014-5392ac98c617",
   "metadata": {},
   "outputs": [],
   "source": [
    "### algorithm to compute analytics ###\n",
    "def add_analytics_to_raw_data(raw):\n",
    "    ### add logic here\n",
    "    processed = raw\n",
    "    ###\n",
    "    return processed ### raw data followed by analytics section (should be the same as the data_analytics_memo_{number}.txt)\n",
    "######################################"
   ]
  },
  {
   "cell_type": "code",
   "execution_count": null,
   "id": "40cf12df",
   "metadata": {},
   "outputs": [],
   "source": [
    "####### !!! DO NOT MODIFY !!! #######\n",
    "def read_file_content(filename):\n",
    "    f = open(filename, 'r', encoding = 'UTF-8')\n",
    "    content = f.read()\n",
    "    f.close()\n",
    "    return content\n",
    "\n",
    "def write_file_content(filename, content):\n",
    "    f = open(filename, 'w', encoding = 'UTF-8')\n",
    "    f.write(content)\n",
    "    f.close()\n",
    "    return None\n",
    "\n",
    "def do_analyse_data(data_raw, write_file_name):\n",
    "    data_analytics = add_analytics_to_raw_data(data_raw)\n",
    "    write_file_content(write_file_name, data_analytics)\n",
    "    return data_analytics\n",
    "\n",
    "def analyse_data(file_number = '1'):\n",
    "    base_filename = 'data_'\n",
    "    \n",
    "    ### read raw file and analytics memo file content from files with specified number\n",
    "    data_raw = read_file_content(base_filename + 'raw_' + str(file_number) + '.txt')\n",
    "    data_analytics_memo = read_file_content(base_filename + 'analytics_memo_' + str(file_number) + '.txt')\n",
    "    \n",
    "    ### generate analytics from raw file\n",
    "    data_analytics = do_analyse_data(data_raw, base_filename + 'analytics_' + str(file_number) + '.txt')\n",
    "    \n",
    "    return data_raw, data_analytics, data_analytics_memo\n",
    "\n",
    "def evaluate_performance(file_number = '1'):\n",
    "    raw, analytics, analytics_memo = analyse_data(file_number)\n",
    "    \n",
    "    # ### print size and type\n",
    "    # print(raw, type(raw))\n",
    "    # print(analytics, type(analytics))\n",
    "    # print(analytics_memo, type(analytics_memo))\n",
    "    \n",
    "    analytics_hash = hashlib.md5(analytics.encode()).hexdigest()\n",
    "    analytics_memo_hash = hashlib.md5(analytics_memo.encode()).hexdigest()\n",
    "    \n",
    "    is_equal = analytics_hash == analytics_memo_hash ## md5 checksum\n",
    "    \n",
    "    return is_equal\n",
    "####### !!! DO NOT MODIFY !!! #######"
   ]
  },
  {
   "cell_type": "markdown",
   "id": "09243248",
   "metadata": {},
   "source": [
    "### PERFORMANCE\n",
    "REQUIREMENT: Generated output file should be identical to the memo file."
   ]
  },
  {
   "cell_type": "code",
   "execution_count": null,
   "id": "3c8a300b",
   "metadata": {},
   "outputs": [],
   "source": [
    "### replace file_number with the number of the txt file you want to test on\n",
    "file_number = '1'\n",
    "\n",
    "### run cell to get your score\n",
    "is_requirement_satisfied = evaluate_performance(file_number)\n",
    "\n",
    "print('Requirement satisfied: ' + str(is_requirement_satisfied))"
   ]
  }
 ],
 "metadata": {
  "kernelspec": {
   "display_name": "Python 3 (ipykernel)",
   "language": "python",
   "name": "python3"
  },
  "language_info": {
   "codemirror_mode": {
    "name": "ipython",
    "version": 3
   },
   "file_extension": ".py",
   "mimetype": "text/x-python",
   "name": "python",
   "nbconvert_exporter": "python",
   "pygments_lexer": "ipython3",
   "version": "3.10.9"
  }
 },
 "nbformat": 4,
 "nbformat_minor": 5
}
